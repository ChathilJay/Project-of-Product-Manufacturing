{
 "cells": [
  {
   "cell_type": "markdown",
   "id": "a775be81",
   "metadata": {},
   "source": [
    "Data Cleaning"
   ]
  },
  {
   "cell_type": "code",
   "execution_count": null,
   "id": "bbeb1730",
   "metadata": {},
   "outputs": [],
   "source": [
    "import pandas as pd"
   ]
  },
  {
   "cell_type": "code",
   "execution_count": null,
   "id": "06919380",
   "metadata": {},
   "outputs": [],
   "source": [
    "\n",
    "# Load the three datasets\n",
    "good_df = pd.read_csv(\"good.csv\")\n",
    "low_bad_df = pd.read_csv(\"low bad.csv\")\n",
    "high_bad_df = pd.read_csv(\"high bad.csv\")\n",
    "\n",
    "# Add a new column to identify the quality class\n",
    "good_df['Quality'] = 'good'\n",
    "low_bad_df['Quality'] = 'low_bad'\n",
    "high_bad_df['Quality'] = 'high_bad'\n",
    "\n",
    "# Combine all three into a single dataset\n",
    "combined_df = pd.concat([good_df, low_bad_df, high_bad_df], ignore_index=True)\n",
    "\n",
    "# Preview the combined dataset\n",
    "print(combined_df.head())"
   ]
  },
  {
   "cell_type": "code",
   "execution_count": null,
   "id": "3a87118e",
   "metadata": {},
   "outputs": [],
   "source": [
    "# Clean column names\n",
    "combined_df.columns = (\n",
    "    combined_df.columns\n",
    "    .str.strip()\n",
    "    .str.lower()\n",
    "    .str.replace(\" \", \"_\")\n",
    ")\n",
    "\n",
    "# Convert Set Time to datetime\n",
    "combined_df['set_time'] = pd.to_datetime(combined_df['set_time'], dayfirst=True)\n"
   ]
  },
  {
   "cell_type": "code",
   "execution_count": null,
   "id": "8b814cdb",
   "metadata": {},
   "outputs": [],
   "source": [
    "# Preview all columns\n",
    "print(\"All columns:\\n\", combined_df.columns.tolist())\n",
    "\n",
    "# Create lists based on column naming patterns\n",
    "sp_columns = [col for col in combined_df.columns if \"_sp\" in col]\n",
    "pv_columns = [col for col in combined_df.columns if \"_pv\" in col]\n",
    "\n",
    "# Metadata columns (manually listed)\n",
    "meta_columns = ['vyp_batch', 'part', 'set_time', 'quality']\n",
    "\n",
    "# Optional: Remaining system-specific or ungrouped columns\n",
    "other_columns = list(set(combined_df.columns) - set(sp_columns) - set(pv_columns) - set(meta_columns))\n",
    "\n",
    "# Print summaries\n",
    "print(f\"\\nSet Point (SP) columns: {len(sp_columns)} →\", sp_columns)\n",
    "print(f\"\\nProcess Variable (PV) columns: {len(pv_columns)} →\", pv_columns)\n",
    "print(f\"\\nOther columns: {len(other_columns)} →\", other_columns)\n"
   ]
  },
  {
   "cell_type": "code",
   "execution_count": null,
   "id": "4cc16d51",
   "metadata": {},
   "outputs": [],
   "source": [
    "for col in sp_columns + pv_columns:\n",
    "    combined_df[f\"{col}_lag1\"] = combined_df[col].shift(1)\n"
   ]
  },
  {
   "cell_type": "code",
   "execution_count": null,
   "id": "cf46fc5c",
   "metadata": {},
   "outputs": [],
   "source": [
    "for col in sp_columns + pv_columns:\n",
    "    combined_df[f\"{col}_roll3\"] = combined_df[col].rolling(window=3).mean()\n"
   ]
  },
  {
   "cell_type": "code",
   "execution_count": null,
   "id": "3dcf92e5",
   "metadata": {},
   "outputs": [],
   "source": [
    "for col in sp_columns + pv_columns:\n",
    "    combined_df[f\"{col}_delta\"] = combined_df[col].diff()\n"
   ]
  },
  {
   "cell_type": "code",
   "execution_count": null,
   "id": "1f322932",
   "metadata": {},
   "outputs": [],
   "source": [
    "combined_df = pd.get_dummies(combined_df, columns=['part'])\n"
   ]
  },
  {
   "cell_type": "code",
   "execution_count": null,
   "id": "490d92a5",
   "metadata": {},
   "outputs": [],
   "source": [
    "combined_df.dropna(inplace=True)\n"
   ]
  },
  {
   "cell_type": "code",
   "execution_count": null,
   "id": "28b07266",
   "metadata": {},
   "outputs": [],
   "source": [
    "combined_df.to_csv(\"combined_cleaned_features.csv\", index=False)\n"
   ]
  }
 ],
 "metadata": {
  "kernelspec": {
   "display_name": "Python 3",
   "language": "python",
   "name": "python3"
  },
  "language_info": {
   "codemirror_mode": {
    "name": "ipython",
    "version": 3
   },
   "file_extension": ".py",
   "mimetype": "text/x-python",
   "name": "python",
   "nbconvert_exporter": "python",
   "pygments_lexer": "ipython3",
   "version": "3.12.5"
  }
 },
 "nbformat": 4,
 "nbformat_minor": 5
}
